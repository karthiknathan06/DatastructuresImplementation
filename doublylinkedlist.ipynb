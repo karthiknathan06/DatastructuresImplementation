{
 "cells": [
  {
   "cell_type": "code",
   "execution_count": 1,
   "metadata": {},
   "outputs": [],
   "source": [
    "#doubly linkedlist\n"
   ]
  },
  {
   "cell_type": "code",
   "execution_count": 58,
   "metadata": {},
   "outputs": [],
   "source": [
    "class Node:\n",
    "    def __init__(self,prev=None,next=None,data=None):\n",
    "        self.next=next\n",
    "        self.prev=prev\n",
    "        self.data=data\n",
    "class Doubly:\n",
    "    def __init__(self):\n",
    "        self.head=None\n",
    "    def insertfirst(self,data1):\n",
    "        newnode=Node(data=data1)\n",
    "        newnode.next=self.head\n",
    "        newnode.prev=None\n",
    "        if self.head is not None:\n",
    "            self.head.prev=newnode\n",
    "        self.head=newnode\n",
    "    def insertafter(self,prevnode,data1):\n",
    "        newnode=Node(data=data1)\n",
    "        newnode.next=prevnode.next\n",
    "        prevnode.next=newnode\n",
    "        newnode.prev=prevnode\n",
    "        if newnode.next is not None:\n",
    "            prevnode.next.prev=newnode\n",
    "    def insertlast(self,data1):\n",
    "        newnode=Node(data=data1)\n",
    "        newnode.next=None\n",
    "        temp=self.head\n",
    "        if self.head is None:\n",
    "            newnode.prev=Node\n",
    "            self.head=newnode\n",
    "            return\n",
    "        while(temp.next is not None):\n",
    "            temp=temp.next\n",
    "        temp.next=newnode\n",
    "        newnode.prev=temp\n",
    "    def printlist(self,node):\n",
    "        while(node is not None):\n",
    "            print(node.data)\n",
    "            temp=node\n",
    "            node=node.next\n",
    "            "
   ]
  },
  {
   "cell_type": "code",
   "execution_count": 59,
   "metadata": {},
   "outputs": [],
   "source": [
    "a=Doubly()"
   ]
  },
  {
   "cell_type": "code",
   "execution_count": 60,
   "metadata": {},
   "outputs": [],
   "source": [
    "a.insertfirst(2)\n",
    "a.insertfirst(3)\n",
    "a.insertlast(3)"
   ]
  },
  {
   "cell_type": "code",
   "execution_count": 61,
   "metadata": {},
   "outputs": [
    {
     "name": "stdout",
     "output_type": "stream",
     "text": [
      "3\n",
      "2\n",
      "3\n"
     ]
    }
   ],
   "source": [
    "a.printlist(a.head)"
   ]
  },
  {
   "cell_type": "code",
   "execution_count": 64,
   "metadata": {},
   "outputs": [],
   "source": [
    "a.insertafter(a.head.next,9)"
   ]
  },
  {
   "cell_type": "code",
   "execution_count": 65,
   "metadata": {},
   "outputs": [
    {
     "name": "stdout",
     "output_type": "stream",
     "text": [
      "3\n",
      "9\n",
      "9\n",
      "2\n",
      "3\n"
     ]
    }
   ],
   "source": [
    "a.printlist(a.head)\n"
   ]
  },
  {
   "cell_type": "code",
   "execution_count": null,
   "metadata": {},
   "outputs": [],
   "source": []
  }
 ],
 "metadata": {
  "kernelspec": {
   "display_name": "Python 3",
   "language": "python",
   "name": "python3"
  },
  "language_info": {
   "codemirror_mode": {
    "name": "ipython",
    "version": 3
   },
   "file_extension": ".py",
   "mimetype": "text/x-python",
   "name": "python",
   "nbconvert_exporter": "python",
   "pygments_lexer": "ipython3",
   "version": "3.6.5"
  }
 },
 "nbformat": 4,
 "nbformat_minor": 2
}
