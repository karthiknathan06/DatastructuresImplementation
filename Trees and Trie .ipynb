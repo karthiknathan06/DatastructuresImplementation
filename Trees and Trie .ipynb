{
 "cells": [
  {
   "cell_type": "code",
   "execution_count": 17,
   "metadata": {},
   "outputs": [
    {
     "data": {
      "text/plain": [
       "'Present in trie'"
      ]
     },
     "execution_count": 17,
     "metadata": {},
     "output_type": "execute_result"
    }
   ],
   "source": [
    "class TrieNode:\n",
    "    def __init__(self):\n",
    "        self.children=[None]*26\n",
    "        self.isEndWord=False\n",
    "class Trie:\n",
    "    def __init__(self):\n",
    "        self.root=self.getTrieNode()\n",
    "    def getTrieNode(self):\n",
    "        return TrieNode()\n",
    "    def char_to_Index(self,ch):\n",
    "        return ord(ch)-ord('a')\n",
    "    def insert(self,key):\n",
    "        crawl=self.root\n",
    "        length=len(key)\n",
    "        for i in range(length):\n",
    "            index=self.char_to_Index(key[i])\n",
    "            if not crawl.children[index]:\n",
    "                crawl.children[index]=self.getTrieNode()\n",
    "            crawl=crawl.children[index]\n",
    "        crawl.isEndWord=True\n",
    "    def searching(self,key):\n",
    "        crawl=self.root\n",
    "        length=len(key)\n",
    "        for i in range(length):\n",
    "            index=self.char_to_Index(key[i])\n",
    "            if not crawl.children[index]:\n",
    "                return False\n",
    "            crawl=crawl.children[index]\n",
    "        return crawl != None and crawl.isEndWord\n",
    "keys = [\"the\",\"a\",\"there\",\"anaswe\",\"any\", \n",
    "            \"by\",\"their\"] \n",
    "output = [\"Not present in trie\", \n",
    "          \"Present in trie\"] \n",
    "t = Trie()  \n",
    "for key in keys: \n",
    "    t.insert(key) \n",
    "output[t.searching(\"the\")]\n"
   ]
  },
  {
   "cell_type": "markdown",
   "metadata": {},
   "source": [
    "<h1>Trees</h1>"
   ]
  },
  {
   "cell_type": "code",
   "execution_count": 26,
   "metadata": {},
   "outputs": [],
   "source": [
    "class Node:\n",
    "    def __init__(self,key):\n",
    "        self.val=key\n",
    "        self.right=None\n",
    "        self.left=None\n",
    "def insert(root,node):\n",
    "    if root is None:\n",
    "        root=node\n",
    "    elif(root.val<node.val):\n",
    "        if(root.right is None):\n",
    "            root.right=node\n",
    "        else:\n",
    "            insert(root.right,node)\n",
    "    else:\n",
    "        if(root.left is None):\n",
    "            root.left=node\n",
    "        else:\n",
    "            insert(root.left,node)\n",
    "def minValuenode(root):\n",
    "    current=root\n",
    "    while(current.left is not None):\n",
    "        current=current.left\n",
    "    return current\n",
    "def deleteNode(root,key):\n",
    "    if root is None:\n",
    "        return root\n",
    "    if key<root.val:\n",
    "        root.left=deleteNode(root.left,key)\n",
    "    elif key>=root.val:\n",
    "        root.right=deleteNode(root.right,key)\n",
    "    else:\n",
    "        if root.left is None:\n",
    "            temp=root.left\n",
    "            root=None\n",
    "            return temp\n",
    "        elif root.right is None:\n",
    "            temp=root.right\n",
    "            root=None\n",
    "            return temp\n",
    "        temp=minValuenode(root.right)\n",
    "        root.val=temp.val\n",
    "        root.right = deleteNode(root.right , temp.key) \n",
    "    return root\n",
    "        \n",
    "def printInorder(root):\n",
    "    if root:\n",
    "        printInorder(root.left)\n",
    "        print(root.val)\n",
    "        printInorder(root.right)\n",
    "def printPreorder(root):\n",
    "    if root:\n",
    "        print(root.val)\n",
    "        printPreorder(root.left)\n",
    "        printPreorder(root.right)\n",
    "def printPostorder(root):\n",
    "    if(root):\n",
    "        printPostorder(root.left)\n",
    "        printPostorder(root.right)\n",
    "        print(root.val)"
   ]
  },
  {
   "cell_type": "code",
   "execution_count": 16,
   "metadata": {},
   "outputs": [],
   "source": [
    "root=Node(1)\n",
    "root.left=Node(2)\n",
    "root.right=Node(3)"
   ]
  },
  {
   "cell_type": "code",
   "execution_count": 17,
   "metadata": {},
   "outputs": [
    {
     "name": "stdout",
     "output_type": "stream",
     "text": [
      "2\n",
      "1\n",
      "3\n"
     ]
    }
   ],
   "source": [
    "printInorder(root)"
   ]
  },
  {
   "cell_type": "code",
   "execution_count": 18,
   "metadata": {},
   "outputs": [
    {
     "name": "stdout",
     "output_type": "stream",
     "text": [
      "1\n",
      "2\n",
      "3\n"
     ]
    }
   ],
   "source": [
    "printPreorder(root)"
   ]
  },
  {
   "cell_type": "code",
   "execution_count": 19,
   "metadata": {},
   "outputs": [
    {
     "name": "stdout",
     "output_type": "stream",
     "text": [
      "2\n",
      "3\n",
      "1\n"
     ]
    }
   ],
   "source": [
    "printPostorder(root)"
   ]
  },
  {
   "cell_type": "code",
   "execution_count": 36,
   "metadata": {},
   "outputs": [],
   "source": [
    "r=Node(10)\n",
    "insert(r,Node(40))\n",
    "insert(r,Node(50))"
   ]
  },
  {
   "cell_type": "code",
   "execution_count": 37,
   "metadata": {},
   "outputs": [
    {
     "name": "stdout",
     "output_type": "stream",
     "text": [
      "10\n",
      "40\n",
      "50\n"
     ]
    }
   ],
   "source": [
    "printInorder(r)"
   ]
  },
  {
   "cell_type": "code",
   "execution_count": 38,
   "metadata": {},
   "outputs": [],
   "source": [
    "r=deleteNode(r,10)"
   ]
  },
  {
   "cell_type": "code",
   "execution_count": 39,
   "metadata": {},
   "outputs": [
    {
     "name": "stdout",
     "output_type": "stream",
     "text": [
      "10\n",
      "40\n",
      "50\n"
     ]
    }
   ],
   "source": [
    "printInorder(r)"
   ]
  },
  {
   "cell_type": "code",
   "execution_count": null,
   "metadata": {},
   "outputs": [],
   "source": []
  }
 ],
 "metadata": {
  "kernelspec": {
   "display_name": "Python 3",
   "language": "python",
   "name": "python3"
  },
  "language_info": {
   "codemirror_mode": {
    "name": "ipython",
    "version": 3
   },
   "file_extension": ".py",
   "mimetype": "text/x-python",
   "name": "python",
   "nbconvert_exporter": "python",
   "pygments_lexer": "ipython3",
   "version": "3.6.5"
  }
 },
 "nbformat": 4,
 "nbformat_minor": 2
}
