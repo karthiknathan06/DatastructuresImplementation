{
 "cells": [
  {
   "cell_type": "code",
   "execution_count": 40,
   "metadata": {},
   "outputs": [],
   "source": [
    "class Node:\n",
    "    def __init__(self,data):\n",
    "        self.data=data\n",
    "        self.next=None\n",
    "        "
   ]
  },
  {
   "cell_type": "code",
   "execution_count": 64,
   "metadata": {},
   "outputs": [],
   "source": [
    "class LinkedList:\n",
    "    def __init__(self):\n",
    "        self.head=None\n",
    "    def printl(self):\n",
    "        temp=self.head\n",
    "        while(temp):\n",
    "            print(temp.data)\n",
    "            temp=temp.next\n",
    "    def push(self,n):\n",
    "        new_node=Node(n)\n",
    "        new_node.next=self.head\n",
    "        self.head=new_node\n",
    "    def insertAfter(self,prev,n):\n",
    "        if prev is None:\n",
    "            print(\"Previous element is not in list\")\n",
    "        new_node=Node(n)\n",
    "        new_node.next=prev.next\n",
    "        prev.next=new_node\n",
    "    def insertEnd(self,n):\n",
    "        temp=self.head\n",
    "        new_node=Node(n)\n",
    "        if self.head is None:\n",
    "            return\n",
    "        while(temp.next is not None):\n",
    "            temp=temp.next\n",
    "        temp.next=new_node\n",
    "    def append(self,n):\n",
    "        new_node=Node(n)\n",
    "        if self.head is None:\n",
    "            self.head=new_node\n",
    "            return\n",
    "        last=self.head\n",
    "        while(last.next):\n",
    "            last=last.next\n",
    "        last.next=new_node\n",
    "    def deleteNode(self,n):\n",
    "        temp=self.head\n",
    "        if temp is not None:\n",
    "            if temp.data==n:\n",
    "                self.head=temp.next\n",
    "                temp=None\n",
    "                return\n",
    "        while(temp is not None):\n",
    "            if temp.data==n:\n",
    "                break\n",
    "            prev=temp\n",
    "            temp=temp.next\n",
    "        if (temp==None):\n",
    "            return\n",
    "        prev.next=temp.next\n",
    "        temp=None\n",
    "            \n",
    "                "
   ]
  },
  {
   "cell_type": "code",
   "execution_count": 65,
   "metadata": {},
   "outputs": [
    {
     "name": "stdout",
     "output_type": "stream",
     "text": [
      "9\n",
      "1\n",
      "2\n",
      "10\n",
      "100\n"
     ]
    }
   ],
   "source": [
    "if __name__==\"__main__\":\n",
    "    l=LinkedList()\n",
    "    l.head=Node(1)\n",
    "    sec=Node(2)\n",
    "    l.head.next=sec\n",
    "    sec.next=None\n",
    "    l.push(9)\n",
    "    l.insertAfter(sec,10)\n",
    "    l.append(55)\n",
    "    l.insertEnd(100)\n",
    "    l.deleteNode(55)\n",
    "    l.printl()"
   ]
  },
  {
   "cell_type": "code",
   "execution_count": null,
   "metadata": {},
   "outputs": [],
   "source": []
  }
 ],
 "metadata": {
  "kernelspec": {
   "display_name": "Python 3",
   "language": "python",
   "name": "python3"
  },
  "language_info": {
   "codemirror_mode": {
    "name": "ipython",
    "version": 3
   },
   "file_extension": ".py",
   "mimetype": "text/x-python",
   "name": "python",
   "nbconvert_exporter": "python",
   "pygments_lexer": "ipython3",
   "version": "3.6.5"
  }
 },
 "nbformat": 4,
 "nbformat_minor": 2
}
